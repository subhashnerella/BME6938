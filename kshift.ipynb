{
 "cells": [
  {
   "cell_type": "code",
   "execution_count": 82,
   "metadata": {},
   "outputs": [],
   "source": [
    "import numpy as np\n",
    "from PIL import Image\n",
    "import os\n",
    "from matplotlib import pyplot as plt\n",
    "%matplotlib inline"
   ]
  },
  {
   "cell_type": "code",
   "execution_count": 83,
   "metadata": {},
   "outputs": [],
   "source": [
    "img = Image.open(\"img/test01.jpg\")\n",
    "img = img.resize((int(150*1.5),150))\n",
    "img_width, img_height = img.size\n",
    "imgarr = np.asarray(img)\n",
    "pixels = img_width*img_height\n",
    "img.show()"
   ]
  },
  {
   "cell_type": "code",
   "execution_count": 84,
   "metadata": {},
   "outputs": [],
   "source": [
    "pos = np.ndarray(shape=(img_height,img_width,2))\n",
    "for i in range(img_height):\n",
    "    for j in range(img_width):\n",
    "        pos[i,j]=[i,j]"
   ]
  },
  {
   "cell_type": "code",
   "execution_count": 85,
   "metadata": {},
   "outputs": [],
   "source": [
    "data = np.append(imgarr,pos,axis=2)"
   ]
  },
  {
   "cell_type": "code",
   "execution_count": 86,
   "metadata": {},
   "outputs": [],
   "source": [
    "r=5."
   ]
  },
  {
   "cell_type": "code",
   "execution_count": null,
   "metadata": {},
   "outputs": [],
   "source": [
    "converged = False\n",
    "\n",
    "centroids = np.reshape(data,(img_height*img_width,-1))\n",
    "pixels = data\n",
    "iterator = 0\n",
    "while not converged and iterator<=20:\n",
    "    new_centroids = np.empty_like(centroids)\n",
    "    for i,centroid in enumerate(centroids):\n",
    "        ED = np.sqrt(np.sum((pixels-centroid)**2,axis=2))\n",
    "        new_centroids[i] = np.mean(pixels[np.where( ED <=r )],axis=0)\n",
    "    uniquecents = np.unique(np.round(new_centroids),axis=0) \n",
    "    norm = np.linalg.norm(centroids-new_centroids)\n",
    "    print(norm)\n",
    "    if norm<1:\n",
    "        converged =True\n",
    "    centroids = uniquecents\n",
    "    iterator+=1\n",
    "print (iterator)"
   ]
  },
  {
   "cell_type": "code",
   "execution_count": null,
   "metadata": {},
   "outputs": [],
   "source": [
    "img = Image.new('RGB', (img_width, img_height), \"white\")\n",
    "img = np.asarray(img)\n",
    "img.setflags(write=1)\n",
    "for i,centroid in enumerate(centroids):\n",
    "    ED = np.sqrt(np.sum((pixels-centroid)**2,axis=2))\n",
    "    img[np.where( ED <=r )]=centroid[:3]\n",
    "\n",
    "image=Image.fromarray(img)\n",
    "image.show()"
   ]
  },
  {
   "cell_type": "code",
   "execution_count": null,
   "metadata": {},
   "outputs": [],
   "source": []
  }
 ],
 "metadata": {
  "kernelspec": {
   "display_name": "Python 3",
   "language": "python",
   "name": "python3"
  },
  "language_info": {
   "codemirror_mode": {
    "name": "ipython",
    "version": 3
   },
   "file_extension": ".py",
   "mimetype": "text/x-python",
   "name": "python",
   "nbconvert_exporter": "python",
   "pygments_lexer": "ipython3",
   "version": "3.6.5"
  }
 },
 "nbformat": 4,
 "nbformat_minor": 2
}
