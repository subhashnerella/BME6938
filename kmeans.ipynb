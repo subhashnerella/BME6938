{
 "cells": [
  {
   "cell_type": "code",
   "execution_count": 156,
   "metadata": {},
   "outputs": [],
   "source": [
    "import numpy as np\n",
    "from PIL import Image\n",
    "import os\n",
    "import time"
   ]
  },
  {
   "cell_type": "code",
   "execution_count": 157,
   "metadata": {},
   "outputs": [],
   "source": [
    "def getcentroids(centroids,clusters):\n",
    "    \"\"\"\n",
    "    obtain centroid for the cluster of point\n",
    "    \"\"\"\n",
    "    k = len(centroids)\n",
    "    new_centroids = np.ndarray(shape=(k,3))\n",
    "    for i in range(k):\n",
    "        icluster= imgarr[np.where(clusters==i)]\n",
    "        new_centroids[i] = np.mean(icluster, axis=0)        \n",
    "    return new_centroids"
   ]
  },
  {
   "cell_type": "code",
   "execution_count": 158,
   "metadata": {},
   "outputs": [],
   "source": [
    "def getclusters(centroids):\n",
    "    \"\"\"\n",
    "    obtain clusters of points based on their distance to centroids\n",
    "    \"\"\"\n",
    "    k=len(centroids)    \n",
    "    distances = np.ndarray(shape=((k,)+np.shape(imgarr)[:-1]))\n",
    "    for i in range(k):\n",
    "        distances[i] = np.sqrt(np.sum((imgarr-centroids[i])**2,axis=2))\n",
    "    clusters = np.argmin(distances, axis = 0)\n",
    "    return clusters    "
   ]
  },
  {
   "cell_type": "code",
   "execution_count": 159,
   "metadata": {},
   "outputs": [],
   "source": [
    "def converged(centroids,old_centroids):\n",
    "    \"\"\"\n",
    "    check if centroid is convereged\n",
    "    \"\"\"\n",
    "    threshold = 0.1\n",
    "    val = np.sum((centroids-old_centroids)**2)\n",
    "    if val<threshold:\n",
    "        return True\n",
    "    else:\n",
    "        return False    "
   ]
  },
  {
   "cell_type": "code",
   "execution_count": 160,
   "metadata": {},
   "outputs": [],
   "source": [
    "def getsegmentation(centroids):\n",
    "    \"\"\"\n",
    "    obtain segmented image\n",
    "    \"\"\"\n",
    "    img = Image.new('L', (img_width, img_height))\n",
    "    img = np.asarray(img)\n",
    "    p = np.sum(centroids,axis=1)\n",
    "    q=p.argsort()\n",
    "    centroids = centroids[q,:]\n",
    "    clusters = getclusters(centroids)\n",
    "    img.setflags(write=1)\n",
    "    for i in range(k):\n",
    "        img[np.where(clusters==i)] = i*255\n",
    "    return img"
   ]
  },
  {
   "cell_type": "code",
   "execution_count": 161,
   "metadata": {},
   "outputs": [],
   "source": [
    "def dice_coef(y_true, y_pred,smooth=1):\n",
    "    \"\"\"\n",
    "    obtain dice coefficient\n",
    "    \"\"\"\n",
    "    y_true_f = np.ndarray.flatten(y_true)\n",
    "    y_pred_f = np.ndarray.flatten(y_pred)\n",
    "    intersection = np.sum(y_true_f * y_pred_f)\n",
    "    return (2. * intersection +smooth) / (np.sum(y_true_f) + np.sum(y_pred_f) +smooth)"
   ]
  },
  {
   "cell_type": "code",
   "execution_count": 162,
   "metadata": {},
   "outputs": [],
   "source": [
    "def start():\n",
    "    k=2\n",
    "    centroids = np.ndarray(shape = (k,3))\n",
    "    old_centroids =  np.zeros(shape= (k,3))\n",
    "    i=0\n",
    "    while i<k:\n",
    "        centroid = imgarr[np.random.randint(0,img_height),np.random.randint(0,img_width)]\n",
    "        if centroid in centroids:\n",
    "            continue\n",
    "        centroids[i] = centroid\n",
    "        i+=1\n",
    "\n",
    "    j=0 \n",
    "    while not converged(centroids,old_centroids) and j<=50:\n",
    "        old_centroids= centroids\n",
    "        clusters = getclusters(centroids)\n",
    "        centroids = getcentroids(centroids,clusters)                              \n",
    "        j+=1\n",
    "\n",
    "    \n",
    "    predict = getsegmentation(centroids.astype(int))\n",
    "    return predict\n",
    "\n"
   ]
  },
  {
   "cell_type": "code",
   "execution_count": 163,
   "metadata": {},
   "outputs": [
    {
     "name": "stdout",
     "output_type": "stream",
     "text": [
      "0.9976832773994307\n",
      "--- 37.2862343788147 seconds ---\n"
     ]
    }
   ],
   "source": [
    "start_time = time.time()\n",
    "path = os.path.join(\"img\",\"images\")\n",
    "files = os.listdir(\"./img/images/\")\n",
    "dice = []\n",
    "for file in files:\n",
    "    if \"mask\" in file:\n",
    "        continue\n",
    "    pathimg= os.path.join(path,file)\n",
    "    img = Image.open(pathimg)\n",
    "    img = img.resize((int(512*1.5),512))\n",
    "    img_width, img_height = img.size\n",
    "    imgarr = np.asarray(img)\n",
    "    name= file.split('.')[0]\n",
    "    maskname = name+\"_mask.tif\"\n",
    "    pathmask= os.path.join(path,maskname)\n",
    "    mask = Image.open(pathmask).convert('L')\n",
    "    mask = mask.resize((int(512*1.5),512))\n",
    "    maskarr = np.asarray(mask)\n",
    "    predict = start()\n",
    "    output=Image.fromarray(predict)\n",
    "    pathsave = os.path.join(\"img\",\"predicts\",name+'_predict.jpg')\n",
    "    output.save(pathsave)\n",
    "    dice.append(dice_coef(maskarr/255,predict/255))\n",
    "print(np.mean(dice))\n",
    "print(\"--- %s seconds ---\" % (time.time() - start_time))"
   ]
  },
  {
   "cell_type": "code",
   "execution_count": 155,
   "metadata": {},
   "outputs": [
    {
     "name": "stdout",
     "output_type": "stream",
     "text": [
      "0.9976748067708263\n"
     ]
    }
   ],
   "source": []
  },
  {
   "cell_type": "code",
   "execution_count": null,
   "metadata": {},
   "outputs": [],
   "source": []
  }
 ],
 "metadata": {
  "kernelspec": {
   "display_name": "Python 3",
   "language": "python",
   "name": "python3"
  },
  "language_info": {
   "codemirror_mode": {
    "name": "ipython",
    "version": 3
   },
   "file_extension": ".py",
   "mimetype": "text/x-python",
   "name": "python",
   "nbconvert_exporter": "python",
   "pygments_lexer": "ipython3",
   "version": "3.6.5"
  }
 },
 "nbformat": 4,
 "nbformat_minor": 2
}
