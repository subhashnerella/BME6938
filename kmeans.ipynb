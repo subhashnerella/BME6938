{
 "cells": [
  {
   "cell_type": "code",
   "execution_count": 150,
   "metadata": {},
   "outputs": [],
   "source": [
    "import numpy as np\n",
    "from PIL import Image\n",
    "import os\n",
    "from matplotlib import pyplot as plt\n",
    "%matplotlib inline"
   ]
  },
  {
   "cell_type": "code",
   "execution_count": 151,
   "metadata": {},
   "outputs": [],
   "source": [
    "K = np.arange(26,27)\n",
    "#K=10"
   ]
  },
  {
   "cell_type": "code",
   "execution_count": 160,
   "metadata": {},
   "outputs": [],
   "source": [
    "img = Image.open(\"img/test06.jpg\")\n",
    "#img = img.resize((int(256*1.5),256))\n",
    "img_width, img_height = img.size\n",
    "imgarr = np.asarray(img)"
   ]
  },
  {
   "cell_type": "code",
   "execution_count": 161,
   "metadata": {},
   "outputs": [],
   "source": [
    "def getcentroids(centroids,clusters):\n",
    "    k = len(centroids)\n",
    "    new_centroids = np.ndarray(shape=(k,3))\n",
    "    for i in range(k):\n",
    "        icluster= imgarr[np.where(clusters==i)]\n",
    "        new_centroids[i] = np.mean(icluster, axis=0)        \n",
    "    return new_centroids"
   ]
  },
  {
   "cell_type": "code",
   "execution_count": 162,
   "metadata": {},
   "outputs": [],
   "source": [
    "def getclusters(centroids):\n",
    "    k=len(centroids)    \n",
    "    distances = np.ndarray(shape=((k,)+np.shape(imgarr)[:-1]))\n",
    "    for i in range(k):\n",
    "        distances[i] = np.sqrt(np.sum((imgarr-centroids[i])**2,axis=2))\n",
    "    clusters = np.argmin(distances, axis = 0)\n",
    "    return clusters    "
   ]
  },
  {
   "cell_type": "code",
   "execution_count": 163,
   "metadata": {},
   "outputs": [],
   "source": [
    "def converged(centroids,old_centroids):\n",
    "    threshold = 0.1\n",
    "    val = np.sum((centroids-old_centroids)**2)\n",
    "    if val<threshold:\n",
    "        return True\n",
    "    else:\n",
    "        return False    "
   ]
  },
  {
   "cell_type": "code",
   "execution_count": 164,
   "metadata": {},
   "outputs": [],
   "source": [
    "def getsegmentation(centroids):\n",
    "    img = Image.new('RGB', (img_width, img_height), \"white\")\n",
    "    img = np.asarray(img)\n",
    "    clusters = getclusters(centroids)\n",
    "    img.setflags(write=1)\n",
    "    for i in range(k):\n",
    "        img[np.where(clusters==i)] = centroids[i]\n",
    "    image=Image.fromarray(img)\n",
    "    image.show()\n",
    "    return img"
   ]
  },
  {
   "cell_type": "code",
   "execution_count": 165,
   "metadata": {},
   "outputs": [],
   "source": [
    "def dice_coef(y_true, y_pred,smooth=1):\n",
    "    y_true_f = np.ndarray.flatten(y_true)\n",
    "    y_pred_f = np.ndarray.flatten(y_pred)\n",
    "    intersection = np.sum(y_true_f * y_pred_f)\n",
    "    return (2. * intersection ) / (np.sum(y_true_f) + np.sum(y_pred_f) )"
   ]
  },
  {
   "cell_type": "code",
   "execution_count": 166,
   "metadata": {},
   "outputs": [
    {
     "name": "stdout",
     "output_type": "stream",
     "text": [
      "26\n"
     ]
    }
   ],
   "source": [
    "for k in K:\n",
    "    print(k)\n",
    "    centroids = np.ndarray(shape = (k,3))\n",
    "    old_centroids =  np.zeros(shape= (k,3))\n",
    "    i=0\n",
    "    while i<k:\n",
    "        centroid = imgarr[np.random.randint(0,img_height),np.random.randint(0,img_width)]\n",
    "        if centroid in centroids:\n",
    "            continue\n",
    "        centroids[i] = centroid\n",
    "        i+=1\n",
    "\n",
    "    j=0 \n",
    "    while not converged(centroids,old_centroids) and j<=50:\n",
    "        old_centroids= centroids\n",
    "        clusters = getclusters(centroids)\n",
    "        centroids = getcentroids(centroids,clusters)                              \n",
    "        j+=1\n",
    "\n",
    "    \n",
    "predict = getsegmentation(centroids.astype(int))\n",
    "\n"
   ]
  },
  {
   "cell_type": "code",
   "execution_count": 167,
   "metadata": {},
   "outputs": [
    {
     "data": {
      "text/plain": [
       "0.4725424975903439"
      ]
     },
     "execution_count": 167,
     "metadata": {},
     "output_type": "execute_result"
    }
   ],
   "source": [
    "dice_coef(imgarr/255.,imgarr/255.)"
   ]
  },
  {
   "cell_type": "code",
   "execution_count": 116,
   "metadata": {},
   "outputs": [],
   "source": [
    "a = np.array([1,2,3])"
   ]
  },
  {
   "cell_type": "code",
   "execution_count": 117,
   "metadata": {},
   "outputs": [
    {
     "data": {
      "text/plain": [
       "array([1., 2., 3.])"
      ]
     },
     "execution_count": 117,
     "metadata": {},
     "output_type": "execute_result"
    }
   ],
   "source": [
    "2*a*a/(a+a)"
   ]
  },
  {
   "cell_type": "code",
   "execution_count": 128,
   "metadata": {},
   "outputs": [
    {
     "data": {
      "text/plain": [
       "array([[[0.00392157, 0.00392157, 0.        ],\n",
       "        [0.00392157, 0.00392157, 0.        ],\n",
       "        [0.00392157, 0.00392157, 0.        ],\n",
       "        ...,\n",
       "        [0.        , 0.00392157, 0.        ],\n",
       "        [0.        , 0.00392157, 0.        ],\n",
       "        [0.        , 0.00392157, 0.        ]],\n",
       "\n",
       "       [[0.        , 0.        , 0.        ],\n",
       "        [0.        , 0.        , 0.        ],\n",
       "        [0.00392157, 0.00392157, 0.        ],\n",
       "        ...,\n",
       "        [0.        , 0.00784314, 0.        ],\n",
       "        [0.        , 0.00784314, 0.        ],\n",
       "        [0.        , 0.00392157, 0.        ]],\n",
       "\n",
       "       [[0.        , 0.00392157, 0.        ],\n",
       "        [0.        , 0.00392157, 0.        ],\n",
       "        [0.        , 0.        , 0.        ],\n",
       "        ...,\n",
       "        [0.00392157, 0.00392157, 0.        ],\n",
       "        [0.        , 0.00392157, 0.        ],\n",
       "        [0.        , 0.00392157, 0.        ]],\n",
       "\n",
       "       ...,\n",
       "\n",
       "       [[0.        , 0.00392157, 0.        ],\n",
       "        [0.        , 0.00392157, 0.        ],\n",
       "        [0.        , 0.00392157, 0.        ],\n",
       "        ...,\n",
       "        [0.        , 0.        , 0.        ],\n",
       "        [0.        , 0.        , 0.        ],\n",
       "        [0.        , 0.        , 0.        ]],\n",
       "\n",
       "       [[0.00392157, 0.00392157, 0.        ],\n",
       "        [0.00392157, 0.00392157, 0.        ],\n",
       "        [0.00392157, 0.00392157, 0.        ],\n",
       "        ...,\n",
       "        [0.        , 0.00392157, 0.        ],\n",
       "        [0.        , 0.00392157, 0.        ],\n",
       "        [0.        , 0.00392157, 0.        ]],\n",
       "\n",
       "       [[0.00392157, 0.00392157, 0.        ],\n",
       "        [0.00392157, 0.00392157, 0.        ],\n",
       "        [0.00392157, 0.00392157, 0.        ],\n",
       "        ...,\n",
       "        [0.00392157, 0.00784314, 0.        ],\n",
       "        [0.00392157, 0.00784314, 0.        ],\n",
       "        [0.00392157, 0.00784314, 0.        ]]])"
      ]
     },
     "execution_count": 128,
     "metadata": {},
     "output_type": "execute_result"
    }
   ],
   "source": [
    "imgarr/255."
   ]
  },
  {
   "cell_type": "code",
   "execution_count": null,
   "metadata": {},
   "outputs": [],
   "source": []
  }
 ],
 "metadata": {
  "kernelspec": {
   "display_name": "Python 3",
   "language": "python",
   "name": "python3"
  },
  "language_info": {
   "codemirror_mode": {
    "name": "ipython",
    "version": 3
   },
   "file_extension": ".py",
   "mimetype": "text/x-python",
   "name": "python",
   "nbconvert_exporter": "python",
   "pygments_lexer": "ipython3",
   "version": "3.6.5"
  }
 },
 "nbformat": 4,
 "nbformat_minor": 2
}
